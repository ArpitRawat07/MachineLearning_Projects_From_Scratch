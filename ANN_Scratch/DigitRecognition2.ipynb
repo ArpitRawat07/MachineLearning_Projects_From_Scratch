{
  "nbformat": 4,
  "nbformat_minor": 0,
  "metadata": {
    "colab": {
      "provenance": []
    },
    "kernelspec": {
      "name": "python3",
      "display_name": "Python 3"
    },
    "language_info": {
      "name": "python"
    }
  },
  "cells": [
    {
      "cell_type": "code",
      "execution_count": 1,
      "metadata": {
        "id": "gq8csDV7V_pM"
      },
      "outputs": [],
      "source": [
        "from sklearn.datasets import load_digits\n",
        "import matplotlib.pyplot as plt\n",
        "import numpy as np\n",
        "import pandas as pd"
      ]
    },
    {
      "cell_type": "code",
      "source": [
        "# X, y = load_digits().data, load_digits().target\n",
        "# X = X/255.\n",
        "\n",
        "# L = len(X)\n",
        "# X_train, y_train, X_test, y_test = X[L//3 : L], y[L//3 : L], X[0 : L//3], y[0 : L//3]"
      ],
      "metadata": {
        "id": "XYzqcQaAXBQJ"
      },
      "execution_count": 2,
      "outputs": []
    },
    {
      "cell_type": "code",
      "source": [
        "import zipfile\n",
        "\n",
        "# Unzipping the dataset\n",
        "zipf = zipfile.ZipFile(\"digit-recognizer.zip\")\n",
        "zipf.extractall()\n",
        "zipf.close()"
      ],
      "metadata": {
        "id": "JHx7z8b-Z_Ai"
      },
      "execution_count": 3,
      "outputs": []
    },
    {
      "cell_type": "code",
      "source": [
        "df = pd.read_csv(\"train.csv\")\n",
        "df.head(3)"
      ],
      "metadata": {
        "colab": {
          "base_uri": "https://localhost:8080/",
          "height": 193
        },
        "id": "59M3idVOaG2J",
        "outputId": "f3947831-3e82-4681-e9d4-eb3cec1bff84"
      },
      "execution_count": 4,
      "outputs": [
        {
          "output_type": "execute_result",
          "data": {
            "text/plain": [
              "   label  pixel0  pixel1  pixel2  pixel3  pixel4  pixel5  pixel6  pixel7  \\\n",
              "0      1       0       0       0       0       0       0       0       0   \n",
              "1      0       0       0       0       0       0       0       0       0   \n",
              "2      1       0       0       0       0       0       0       0       0   \n",
              "\n",
              "   pixel8  ...  pixel774  pixel775  pixel776  pixel777  pixel778  pixel779  \\\n",
              "0       0  ...         0         0         0         0         0         0   \n",
              "1       0  ...         0         0         0         0         0         0   \n",
              "2       0  ...         0         0         0         0         0         0   \n",
              "\n",
              "   pixel780  pixel781  pixel782  pixel783  \n",
              "0         0         0         0         0  \n",
              "1         0         0         0         0  \n",
              "2         0         0         0         0  \n",
              "\n",
              "[3 rows x 785 columns]"
            ],
            "text/html": [
              "\n",
              "  <div id=\"df-89a0901c-dd7c-4a34-afec-88a34ab8816c\" class=\"colab-df-container\">\n",
              "    <div>\n",
              "<style scoped>\n",
              "    .dataframe tbody tr th:only-of-type {\n",
              "        vertical-align: middle;\n",
              "    }\n",
              "\n",
              "    .dataframe tbody tr th {\n",
              "        vertical-align: top;\n",
              "    }\n",
              "\n",
              "    .dataframe thead th {\n",
              "        text-align: right;\n",
              "    }\n",
              "</style>\n",
              "<table border=\"1\" class=\"dataframe\">\n",
              "  <thead>\n",
              "    <tr style=\"text-align: right;\">\n",
              "      <th></th>\n",
              "      <th>label</th>\n",
              "      <th>pixel0</th>\n",
              "      <th>pixel1</th>\n",
              "      <th>pixel2</th>\n",
              "      <th>pixel3</th>\n",
              "      <th>pixel4</th>\n",
              "      <th>pixel5</th>\n",
              "      <th>pixel6</th>\n",
              "      <th>pixel7</th>\n",
              "      <th>pixel8</th>\n",
              "      <th>...</th>\n",
              "      <th>pixel774</th>\n",
              "      <th>pixel775</th>\n",
              "      <th>pixel776</th>\n",
              "      <th>pixel777</th>\n",
              "      <th>pixel778</th>\n",
              "      <th>pixel779</th>\n",
              "      <th>pixel780</th>\n",
              "      <th>pixel781</th>\n",
              "      <th>pixel782</th>\n",
              "      <th>pixel783</th>\n",
              "    </tr>\n",
              "  </thead>\n",
              "  <tbody>\n",
              "    <tr>\n",
              "      <th>0</th>\n",
              "      <td>1</td>\n",
              "      <td>0</td>\n",
              "      <td>0</td>\n",
              "      <td>0</td>\n",
              "      <td>0</td>\n",
              "      <td>0</td>\n",
              "      <td>0</td>\n",
              "      <td>0</td>\n",
              "      <td>0</td>\n",
              "      <td>0</td>\n",
              "      <td>...</td>\n",
              "      <td>0</td>\n",
              "      <td>0</td>\n",
              "      <td>0</td>\n",
              "      <td>0</td>\n",
              "      <td>0</td>\n",
              "      <td>0</td>\n",
              "      <td>0</td>\n",
              "      <td>0</td>\n",
              "      <td>0</td>\n",
              "      <td>0</td>\n",
              "    </tr>\n",
              "    <tr>\n",
              "      <th>1</th>\n",
              "      <td>0</td>\n",
              "      <td>0</td>\n",
              "      <td>0</td>\n",
              "      <td>0</td>\n",
              "      <td>0</td>\n",
              "      <td>0</td>\n",
              "      <td>0</td>\n",
              "      <td>0</td>\n",
              "      <td>0</td>\n",
              "      <td>0</td>\n",
              "      <td>...</td>\n",
              "      <td>0</td>\n",
              "      <td>0</td>\n",
              "      <td>0</td>\n",
              "      <td>0</td>\n",
              "      <td>0</td>\n",
              "      <td>0</td>\n",
              "      <td>0</td>\n",
              "      <td>0</td>\n",
              "      <td>0</td>\n",
              "      <td>0</td>\n",
              "    </tr>\n",
              "    <tr>\n",
              "      <th>2</th>\n",
              "      <td>1</td>\n",
              "      <td>0</td>\n",
              "      <td>0</td>\n",
              "      <td>0</td>\n",
              "      <td>0</td>\n",
              "      <td>0</td>\n",
              "      <td>0</td>\n",
              "      <td>0</td>\n",
              "      <td>0</td>\n",
              "      <td>0</td>\n",
              "      <td>...</td>\n",
              "      <td>0</td>\n",
              "      <td>0</td>\n",
              "      <td>0</td>\n",
              "      <td>0</td>\n",
              "      <td>0</td>\n",
              "      <td>0</td>\n",
              "      <td>0</td>\n",
              "      <td>0</td>\n",
              "      <td>0</td>\n",
              "      <td>0</td>\n",
              "    </tr>\n",
              "  </tbody>\n",
              "</table>\n",
              "<p>3 rows × 785 columns</p>\n",
              "</div>\n",
              "    <div class=\"colab-df-buttons\">\n",
              "\n",
              "  <div class=\"colab-df-container\">\n",
              "    <button class=\"colab-df-convert\" onclick=\"convertToInteractive('df-89a0901c-dd7c-4a34-afec-88a34ab8816c')\"\n",
              "            title=\"Convert this dataframe to an interactive table.\"\n",
              "            style=\"display:none;\">\n",
              "\n",
              "  <svg xmlns=\"http://www.w3.org/2000/svg\" height=\"24px\" viewBox=\"0 -960 960 960\">\n",
              "    <path d=\"M120-120v-720h720v720H120Zm60-500h600v-160H180v160Zm220 220h160v-160H400v160Zm0 220h160v-160H400v160ZM180-400h160v-160H180v160Zm440 0h160v-160H620v160ZM180-180h160v-160H180v160Zm440 0h160v-160H620v160Z\"/>\n",
              "  </svg>\n",
              "    </button>\n",
              "\n",
              "  <style>\n",
              "    .colab-df-container {\n",
              "      display:flex;\n",
              "      gap: 12px;\n",
              "    }\n",
              "\n",
              "    .colab-df-convert {\n",
              "      background-color: #E8F0FE;\n",
              "      border: none;\n",
              "      border-radius: 50%;\n",
              "      cursor: pointer;\n",
              "      display: none;\n",
              "      fill: #1967D2;\n",
              "      height: 32px;\n",
              "      padding: 0 0 0 0;\n",
              "      width: 32px;\n",
              "    }\n",
              "\n",
              "    .colab-df-convert:hover {\n",
              "      background-color: #E2EBFA;\n",
              "      box-shadow: 0px 1px 2px rgba(60, 64, 67, 0.3), 0px 1px 3px 1px rgba(60, 64, 67, 0.15);\n",
              "      fill: #174EA6;\n",
              "    }\n",
              "\n",
              "    .colab-df-buttons div {\n",
              "      margin-bottom: 4px;\n",
              "    }\n",
              "\n",
              "    [theme=dark] .colab-df-convert {\n",
              "      background-color: #3B4455;\n",
              "      fill: #D2E3FC;\n",
              "    }\n",
              "\n",
              "    [theme=dark] .colab-df-convert:hover {\n",
              "      background-color: #434B5C;\n",
              "      box-shadow: 0px 1px 3px 1px rgba(0, 0, 0, 0.15);\n",
              "      filter: drop-shadow(0px 1px 2px rgba(0, 0, 0, 0.3));\n",
              "      fill: #FFFFFF;\n",
              "    }\n",
              "  </style>\n",
              "\n",
              "    <script>\n",
              "      const buttonEl =\n",
              "        document.querySelector('#df-89a0901c-dd7c-4a34-afec-88a34ab8816c button.colab-df-convert');\n",
              "      buttonEl.style.display =\n",
              "        google.colab.kernel.accessAllowed ? 'block' : 'none';\n",
              "\n",
              "      async function convertToInteractive(key) {\n",
              "        const element = document.querySelector('#df-89a0901c-dd7c-4a34-afec-88a34ab8816c');\n",
              "        const dataTable =\n",
              "          await google.colab.kernel.invokeFunction('convertToInteractive',\n",
              "                                                    [key], {});\n",
              "        if (!dataTable) return;\n",
              "\n",
              "        const docLinkHtml = 'Like what you see? Visit the ' +\n",
              "          '<a target=\"_blank\" href=https://colab.research.google.com/notebooks/data_table.ipynb>data table notebook</a>'\n",
              "          + ' to learn more about interactive tables.';\n",
              "        element.innerHTML = '';\n",
              "        dataTable['output_type'] = 'display_data';\n",
              "        await google.colab.output.renderOutput(dataTable, element);\n",
              "        const docLink = document.createElement('div');\n",
              "        docLink.innerHTML = docLinkHtml;\n",
              "        element.appendChild(docLink);\n",
              "      }\n",
              "    </script>\n",
              "  </div>\n",
              "\n",
              "\n",
              "<div id=\"df-f4480b74-1cd5-406f-aadd-5f40d2a3781a\">\n",
              "  <button class=\"colab-df-quickchart\" onclick=\"quickchart('df-f4480b74-1cd5-406f-aadd-5f40d2a3781a')\"\n",
              "            title=\"Suggest charts\"\n",
              "            style=\"display:none;\">\n",
              "\n",
              "<svg xmlns=\"http://www.w3.org/2000/svg\" height=\"24px\"viewBox=\"0 0 24 24\"\n",
              "     width=\"24px\">\n",
              "    <g>\n",
              "        <path d=\"M19 3H5c-1.1 0-2 .9-2 2v14c0 1.1.9 2 2 2h14c1.1 0 2-.9 2-2V5c0-1.1-.9-2-2-2zM9 17H7v-7h2v7zm4 0h-2V7h2v10zm4 0h-2v-4h2v4z\"/>\n",
              "    </g>\n",
              "</svg>\n",
              "  </button>\n",
              "\n",
              "<style>\n",
              "  .colab-df-quickchart {\n",
              "      --bg-color: #E8F0FE;\n",
              "      --fill-color: #1967D2;\n",
              "      --hover-bg-color: #E2EBFA;\n",
              "      --hover-fill-color: #174EA6;\n",
              "      --disabled-fill-color: #AAA;\n",
              "      --disabled-bg-color: #DDD;\n",
              "  }\n",
              "\n",
              "  [theme=dark] .colab-df-quickchart {\n",
              "      --bg-color: #3B4455;\n",
              "      --fill-color: #D2E3FC;\n",
              "      --hover-bg-color: #434B5C;\n",
              "      --hover-fill-color: #FFFFFF;\n",
              "      --disabled-bg-color: #3B4455;\n",
              "      --disabled-fill-color: #666;\n",
              "  }\n",
              "\n",
              "  .colab-df-quickchart {\n",
              "    background-color: var(--bg-color);\n",
              "    border: none;\n",
              "    border-radius: 50%;\n",
              "    cursor: pointer;\n",
              "    display: none;\n",
              "    fill: var(--fill-color);\n",
              "    height: 32px;\n",
              "    padding: 0;\n",
              "    width: 32px;\n",
              "  }\n",
              "\n",
              "  .colab-df-quickchart:hover {\n",
              "    background-color: var(--hover-bg-color);\n",
              "    box-shadow: 0 1px 2px rgba(60, 64, 67, 0.3), 0 1px 3px 1px rgba(60, 64, 67, 0.15);\n",
              "    fill: var(--button-hover-fill-color);\n",
              "  }\n",
              "\n",
              "  .colab-df-quickchart-complete:disabled,\n",
              "  .colab-df-quickchart-complete:disabled:hover {\n",
              "    background-color: var(--disabled-bg-color);\n",
              "    fill: var(--disabled-fill-color);\n",
              "    box-shadow: none;\n",
              "  }\n",
              "\n",
              "  .colab-df-spinner {\n",
              "    border: 2px solid var(--fill-color);\n",
              "    border-color: transparent;\n",
              "    border-bottom-color: var(--fill-color);\n",
              "    animation:\n",
              "      spin 1s steps(1) infinite;\n",
              "  }\n",
              "\n",
              "  @keyframes spin {\n",
              "    0% {\n",
              "      border-color: transparent;\n",
              "      border-bottom-color: var(--fill-color);\n",
              "      border-left-color: var(--fill-color);\n",
              "    }\n",
              "    20% {\n",
              "      border-color: transparent;\n",
              "      border-left-color: var(--fill-color);\n",
              "      border-top-color: var(--fill-color);\n",
              "    }\n",
              "    30% {\n",
              "      border-color: transparent;\n",
              "      border-left-color: var(--fill-color);\n",
              "      border-top-color: var(--fill-color);\n",
              "      border-right-color: var(--fill-color);\n",
              "    }\n",
              "    40% {\n",
              "      border-color: transparent;\n",
              "      border-right-color: var(--fill-color);\n",
              "      border-top-color: var(--fill-color);\n",
              "    }\n",
              "    60% {\n",
              "      border-color: transparent;\n",
              "      border-right-color: var(--fill-color);\n",
              "    }\n",
              "    80% {\n",
              "      border-color: transparent;\n",
              "      border-right-color: var(--fill-color);\n",
              "      border-bottom-color: var(--fill-color);\n",
              "    }\n",
              "    90% {\n",
              "      border-color: transparent;\n",
              "      border-bottom-color: var(--fill-color);\n",
              "    }\n",
              "  }\n",
              "</style>\n",
              "\n",
              "  <script>\n",
              "    async function quickchart(key) {\n",
              "      const quickchartButtonEl =\n",
              "        document.querySelector('#' + key + ' button');\n",
              "      quickchartButtonEl.disabled = true;  // To prevent multiple clicks.\n",
              "      quickchartButtonEl.classList.add('colab-df-spinner');\n",
              "      try {\n",
              "        const charts = await google.colab.kernel.invokeFunction(\n",
              "            'suggestCharts', [key], {});\n",
              "      } catch (error) {\n",
              "        console.error('Error during call to suggestCharts:', error);\n",
              "      }\n",
              "      quickchartButtonEl.classList.remove('colab-df-spinner');\n",
              "      quickchartButtonEl.classList.add('colab-df-quickchart-complete');\n",
              "    }\n",
              "    (() => {\n",
              "      let quickchartButtonEl =\n",
              "        document.querySelector('#df-f4480b74-1cd5-406f-aadd-5f40d2a3781a button');\n",
              "      quickchartButtonEl.style.display =\n",
              "        google.colab.kernel.accessAllowed ? 'block' : 'none';\n",
              "    })();\n",
              "  </script>\n",
              "</div>\n",
              "    </div>\n",
              "  </div>\n"
            ]
          },
          "metadata": {},
          "execution_count": 4
        }
      ]
    },
    {
      "cell_type": "code",
      "source": [
        "df.shape"
      ],
      "metadata": {
        "colab": {
          "base_uri": "https://localhost:8080/"
        },
        "id": "z4OuwMyWaQdx",
        "outputId": "9d895b0c-37d0-4748-ea3a-ec02f364838f"
      },
      "execution_count": 5,
      "outputs": [
        {
          "output_type": "execute_result",
          "data": {
            "text/plain": [
              "(42000, 785)"
            ]
          },
          "metadata": {},
          "execution_count": 5
        }
      ]
    },
    {
      "cell_type": "code",
      "source": [
        "# Converting the data frame to numpy array\n",
        "# Data is a matrix with 42000 rows (sample digits),\n",
        "# and 785 columns(28 X 28 pixels + 1 label column).\n",
        "data = np.array(df)\n",
        "\n",
        "m, n = data.shape\n",
        "\n",
        "np.random.shuffle(data)"
      ],
      "metadata": {
        "id": "N0bTD68oaU8D"
      },
      "execution_count": 6,
      "outputs": []
    },
    {
      "cell_type": "code",
      "source": [
        "# Earlier first column was the label column, and the other columns were pixels from 0 to 783.\n",
        "# That is every row starting from column 1, was an image.\n",
        "# Transposing the array will give us every column as a sample image with first row being the labels for every image column.\n",
        "train_data, test_data = data[0:int(m-m/8)], data[int(m-m/8):m]\n",
        "X_train, y_train, X_test, y_test = train_data[:, 1:], train_data[:, 0], test_data[:, 1:], test_data[:, 0]\n",
        "X_train, X_test = X_train/255., X_test/255."
      ],
      "metadata": {
        "id": "Rvv7mfmHaZ6q"
      },
      "execution_count": 7,
      "outputs": []
    },
    {
      "cell_type": "code",
      "source": [
        "def one_hot(Y):\n",
        "  one_hot_Y = np.zeros((Y.size, Y.max()+1))\n",
        "  one_hot_Y[np.arange(Y.size), Y] = 1\n",
        "  # one_hot_Y = one_hot_Y.T\n",
        "  return one_hot_Y"
      ],
      "metadata": {
        "id": "d3oEr3ZT7iLH"
      },
      "execution_count": 8,
      "outputs": []
    },
    {
      "cell_type": "code",
      "source": [
        "# Rectified Linear Unit\n",
        "def ReLU(X):\n",
        "  return np.maximum(0, X)\n",
        "\n",
        "def deriv_ReLU(X):\n",
        "  return X > 0\n",
        "\n",
        "\n",
        "# Sigmoid function\n",
        "def sigmoid(X):\n",
        "  return np.exp(X) / (1+np.exp(X))\n",
        "\n",
        "def deriv_sigmoid(X):\n",
        "  sig = sigmoid(X)\n",
        "  return sig * (1 - sig)\n",
        "\n",
        "\n",
        "# tanh function\n",
        "def tanh(X):\n",
        "  return (np.exp(2*X) - 1) / (np.exp(2*X) + 1)\n",
        "\n",
        "def deriv_tanh(X):\n",
        "  return 1 - tanh(X) ** 2\n",
        "\n",
        "\n",
        "# Softmax function\n",
        "def softmax(X):\n",
        "  exp_X = np.exp(X - np.max(X, axis=-1, keepdims=True))\n",
        "  return exp_X / np.sum(exp_X, axis=-1, keepdims=True)\n"
      ],
      "metadata": {
        "id": "_N5GWy5fmmZ6"
      },
      "execution_count": 9,
      "outputs": []
    },
    {
      "cell_type": "code",
      "source": [
        "def get_prediction(X):\n",
        "  return np.argmax(X, 1)"
      ],
      "metadata": {
        "id": "7d9e3q6p5WVy"
      },
      "execution_count": 10,
      "outputs": []
    },
    {
      "cell_type": "code",
      "source": [
        "def get_accuracy(predictions, Y):\n",
        "  print(predictions, Y)\n",
        "  return np.sum(predictions == Y)/Y.size"
      ],
      "metadata": {
        "id": "1EW0fGGP5WSP"
      },
      "execution_count": 11,
      "outputs": []
    },
    {
      "cell_type": "code",
      "source": [
        "def categorical_crossentropy(y_pred, y):\n",
        "  # Avoid numerical instability by adding a small constant to prevent log (0)\n",
        "  epsilon = 1e-15\n",
        "  y_pred = np.clip(y_pred, epsilon, 1-epsilon)\n",
        "\n",
        "  loss = -np.sum(y * np.log(y_pred)) / len(y)\n",
        "\n",
        "  return loss"
      ],
      "metadata": {
        "id": "HX1T9k2s7aDU"
      },
      "execution_count": 12,
      "outputs": []
    },
    {
      "cell_type": "code",
      "source": [
        "class NN:\n",
        "  def __init__(self, layers, input_size = 784, output=10):\n",
        "    np.random.seed(0)\n",
        "    model = {}\n",
        "    model['W1'] = np.random.randn(input_size, layers[0])\n",
        "    model['b1'] = np.zeros((1, layers[0]))\n",
        "\n",
        "    for i in range(1, len(layers)):\n",
        "      model[f'W{i+1}'] = np.random.randn(layers[i-1], layers[i])\n",
        "      model[f'b{i+1}'] = np.zeros((1, layers[i]))\n",
        "\n",
        "    model[f'W{len(layers)+1}'] = np.random.randn(layers[-1], output)\n",
        "    model[f'b{(len(layers)+1)}'] = np.zeros((1, output))\n",
        "\n",
        "    self.model = model\n",
        "\n",
        "\n",
        "  def forward_prop(self, X):\n",
        "    input = X\n",
        "    self.history = []\n",
        "    L = len(self.model) // 2\n",
        "\n",
        "    for i in range(1, L):\n",
        "      W = self.model[f'W{i}']\n",
        "      b = self.model[f'b{i}']\n",
        "\n",
        "      Z = np.dot(input, W) + b\n",
        "      A = ReLU(Z)\n",
        "\n",
        "      self.history.append([W, b, Z, A])\n",
        "      input = A\n",
        "\n",
        "    W_output = self.model[f'W{L}']\n",
        "    b_output = self.model[f'b{L}']\n",
        "    Z_output = np.dot(input, W_output) + b_output\n",
        "    A_output = softmax(Z_output)\n",
        "\n",
        "    self.history.append([W_output, b_output, Z_output, A_output])\n",
        "    return A_output\n",
        "\n",
        "\n",
        "  def backward_prop(self, X, y_hat, y):\n",
        "    deltas = {}\n",
        "    L = len(self.history)\n",
        "    m = X.shape[0]\n",
        "    Y = one_hot(y)\n",
        "\n",
        "    # Output Layer gradients\n",
        "    dZ_output = y_hat - Y\n",
        "    deltas[f'dW{L}'] = 1/m * np.dot(self.history[L-2][3].T, dZ_output)\n",
        "    deltas[f'db{L}'] = 1/m * np.sum(dZ_output, axis=0)\n",
        "\n",
        "    # Hidden Layer gradients\n",
        "    dZ = dZ_output\n",
        "    for i in reversed(range(1, L-1)):\n",
        "      W = self.history[i+1][0]\n",
        "      Z = self.history[i][3]\n",
        "\n",
        "      dZ = deriv_ReLU(Z) * np.dot(dZ, W.T)\n",
        "      deltas[f'dW{i+1}'] = 1/m * np.dot(self.history[i-1][3].T, dZ)\n",
        "      deltas[f'db{i+1}'] = 1/m * np.sum(dZ, axis=0)\n",
        "\n",
        "    W, Z = self.history[1][0], self.history[0][3]\n",
        "    dZ = deriv_ReLU(Z) * np.dot(dZ, W.T)\n",
        "    deltas[f'dW1'] = 1/m * np.dot(X.T, dZ)\n",
        "    deltas[f'db1'] = 1/m * np.sum(dZ, axis = 0)\n",
        "\n",
        "    return deltas\n",
        "\n",
        "\n",
        "  def update_parameters(self, deltas, lr):\n",
        "    L = len(self.history)\n",
        "\n",
        "    for i in range(1, L+1):\n",
        "      self.model[f'W{i}'] -= lr * deltas[f'dW{i}']\n",
        "      self.model[f'b{i}'] -= lr * deltas[f'db{i}']\n",
        "\n",
        "\n",
        "  def gradient_descent(self, X, y, epochs, lr):\n",
        "    for epoch in range(epochs):\n",
        "      forward_output = self.forward_prop(X)\n",
        "      deltas = self.backward_prop(X, forward_output, y)\n",
        "      self.update_parameters(deltas, lr)\n",
        "      loss = categorical_crossentropy(forward_output, one_hot(y))\n",
        "      if epoch % 100 == 0:\n",
        "        print(f'Epochs: {epoch},  Accuracy: {get_accuracy(get_prediction(forward_output), y)},  Loss: {loss}')\n",
        "\n",
        "  def make_prediction(self, X):\n",
        "    output = self.forward_prop(X)\n",
        "    return get_prediction(output)\n",
        "\n",
        "  def test_prediction(self, index, X, y):\n",
        "    current_image = X[index, :, None].T\n",
        "    prediction = self.make_prediction(current_image)\n",
        "    label = y[index]\n",
        "    print(f\"Prediction: {prediction}\")\n",
        "    print(f\"Label: {label}\")\n",
        "\n",
        "    current_image = current_image.reshape((28, 28)) * 255\n",
        "    plt.gray()\n",
        "    plt.axis(False)\n",
        "    plt.imshow(current_image)\n",
        "\n",
        "  def test_sample_image(self, img):\n",
        "    img = plt.imread(img)\n",
        "    img = np.array(img)\n",
        "    img = img[:, :, :1].reshape(28, 28)\n",
        "    img = img.ravel()\n",
        "    img = img/255.\n",
        "\n",
        "    current_image = img[:, None].T\n",
        "    prediction = self.make_prediction(current_image)\n",
        "    print(f\"Prediction: {prediction}\")\n",
        "\n",
        "    current_image = current_image.reshape((28, 28)) * 255\n",
        "    plt.gray()\n",
        "    plt.imshow(current_image, interpolation='nearest')\n",
        "    plt.axis(False)\n",
        "    plt.show()"
      ],
      "metadata": {
        "id": "k1iIHdScXkky"
      },
      "execution_count": 28,
      "outputs": []
    },
    {
      "cell_type": "code",
      "source": [
        "sample_model = NN([160])"
      ],
      "metadata": {
        "id": "qeLJTMhEbY8X"
      },
      "execution_count": 29,
      "outputs": []
    },
    {
      "cell_type": "code",
      "source": [
        "sample_model.gradient_descent(X_train, y_train, 2000, 0.75)"
      ],
      "metadata": {
        "id": "mQCtGEeVUC4r",
        "colab": {
          "base_uri": "https://localhost:8080/"
        },
        "outputId": "34736d8f-e261-4551-8f09-25755a8500a1"
      },
      "execution_count": 30,
      "outputs": [
        {
          "output_type": "stream",
          "name": "stdout",
          "text": [
            "[5 5 5 ... 2 0 6] [8 9 1 ... 0 7 2]\n",
            "Epochs: 0,  Accuracy: 0.0729251700680272,  Loss: 30.778973648678893\n",
            "[9 9 1 ... 0 7 2] [8 9 1 ... 0 7 2]\n",
            "Epochs: 100,  Accuracy: 0.7760272108843538,  Loss: 1.087595105434938\n",
            "[9 9 1 ... 0 7 2] [8 9 1 ... 0 7 2]\n",
            "Epochs: 200,  Accuracy: 0.8356190476190476,  Loss: 0.7014878682399985\n",
            "[9 9 1 ... 0 7 2] [8 9 1 ... 0 7 2]\n",
            "Epochs: 300,  Accuracy: 0.8657414965986394,  Loss: 0.5363495468015418\n",
            "[9 9 1 ... 0 7 2] [8 9 1 ... 0 7 2]\n",
            "Epochs: 400,  Accuracy: 0.8841904761904762,  Loss: 0.443047172884488\n",
            "[9 9 1 ... 0 7 2] [8 9 1 ... 0 7 2]\n",
            "Epochs: 500,  Accuracy: 0.8951020408163265,  Loss: 0.38773631041389056\n",
            "[9 9 1 ... 0 7 2] [8 9 1 ... 0 7 2]\n",
            "Epochs: 600,  Accuracy: 0.9052244897959184,  Loss: 0.3446594142666122\n",
            "[9 9 1 ... 0 7 2] [8 9 1 ... 0 7 2]\n",
            "Epochs: 700,  Accuracy: 0.91221768707483,  Loss: 0.3132299211340126\n",
            "[9 9 1 ... 0 7 2] [8 9 1 ... 0 7 2]\n",
            "Epochs: 800,  Accuracy: 0.9182040816326531,  Loss: 0.2898332454109959\n",
            "[9 9 1 ... 0 7 2] [8 9 1 ... 0 7 2]\n",
            "Epochs: 900,  Accuracy: 0.9233197278911565,  Loss: 0.2684419755265339\n",
            "[9 9 1 ... 0 7 2] [8 9 1 ... 0 7 2]\n",
            "Epochs: 1000,  Accuracy: 0.9277823129251701,  Loss: 0.2513660560190383\n",
            "[9 9 1 ... 0 7 2] [8 9 1 ... 0 7 2]\n",
            "Epochs: 1100,  Accuracy: 0.9319183673469388,  Loss: 0.23655173991408737\n",
            "[9 9 1 ... 0 7 2] [8 9 1 ... 0 7 2]\n",
            "Epochs: 1200,  Accuracy: 0.9353197278911565,  Loss: 0.22333804216774278\n",
            "[9 9 1 ... 0 7 2] [8 9 1 ... 0 7 2]\n",
            "Epochs: 1300,  Accuracy: 0.9384489795918367,  Loss: 0.2119481991875967\n",
            "[9 9 1 ... 0 7 2] [8 9 1 ... 0 7 2]\n",
            "Epochs: 1400,  Accuracy: 0.9412789115646258,  Loss: 0.2014523217264587\n",
            "[9 9 1 ... 0 7 2] [8 9 1 ... 0 7 2]\n",
            "Epochs: 1500,  Accuracy: 0.9372244897959183,  Loss: 0.2051866868274788\n",
            "[9 9 1 ... 0 7 2] [8 9 1 ... 0 7 2]\n",
            "Epochs: 1600,  Accuracy: 0.9449251700680272,  Loss: 0.1844036646063036\n",
            "[9 9 1 ... 0 7 2] [8 9 1 ... 0 7 2]\n",
            "Epochs: 1700,  Accuracy: 0.9476190476190476,  Loss: 0.1767669259494024\n",
            "[9 9 1 ... 0 7 2] [8 9 1 ... 0 7 2]\n",
            "Epochs: 1800,  Accuracy: 0.9493061224489796,  Loss: 0.170260399200518\n",
            "[9 9 1 ... 0 7 2] [8 9 1 ... 0 7 2]\n",
            "Epochs: 1900,  Accuracy: 0.9514285714285714,  Loss: 0.164042971913371\n"
          ]
        }
      ]
    },
    {
      "cell_type": "code",
      "source": [
        "# Testing for test dataset\n",
        "test_pred = sample_model.make_prediction(X_test)\n",
        "get_accuracy(test_pred, y_test)"
      ],
      "metadata": {
        "colab": {
          "base_uri": "https://localhost:8080/"
        },
        "id": "tFRoPF3TXqBV",
        "outputId": "402762e1-bb11-44d1-a0da-9581795cdf85"
      },
      "execution_count": 31,
      "outputs": [
        {
          "output_type": "stream",
          "name": "stdout",
          "text": [
            "[4 1 2 ... 9 3 9] [4 1 2 ... 9 3 9]\n"
          ]
        },
        {
          "output_type": "execute_result",
          "data": {
            "text/plain": [
              "0.9201904761904762"
            ]
          },
          "metadata": {},
          "execution_count": 31
        }
      ]
    },
    {
      "cell_type": "code",
      "source": [
        "sample_model.test_prediction(25, X_test, y_test)"
      ],
      "metadata": {
        "colab": {
          "base_uri": "https://localhost:8080/",
          "height": 441
        },
        "id": "CIkQ5tl4KTsK",
        "outputId": "3e810855-b8b5-4ac3-b849-7f26355c4041"
      },
      "execution_count": 54,
      "outputs": [
        {
          "output_type": "stream",
          "name": "stdout",
          "text": [
            "Prediction: [4]\n",
            "Label: 4\n"
          ]
        },
        {
          "output_type": "display_data",
          "data": {
            "text/plain": [
              "<Figure size 640x480 with 1 Axes>"
            ],
            "image/png": "[encoded data removed]"
          },
          "metadata": {}
        }
      ]
    },
    {
      "cell_type": "code",
      "source": [
        "sample_model.test_sample_image('handwritten3.jpg')"
      ],
      "metadata": {
        "colab": {
          "base_uri": "https://localhost:8080/",
          "height": 423
        },
        "id": "62JNg1yhPwkm",
        "outputId": "7d144888-ee36-4c80-9bcf-170511fb4965"
      },
      "execution_count": 33,
      "outputs": [
        {
          "output_type": "stream",
          "name": "stdout",
          "text": [
            "Prediction: [3]\n"
          ]
        },
        {
          "output_type": "display_data",
          "data": {
            "text/plain": [
              "<Figure size 640x480 with 1 Axes>"
            ],
            "image/png": "[encoded data removed]"
          },
          "metadata": {}
        }
      ]
    },
    {
      "cell_type": "code",
      "source": [
        "sample_model.test_sample_image('handwritten1.jpg')"
      ],
      "metadata": {
        "colab": {
          "base_uri": "https://localhost:8080/",
          "height": 423
        },
        "id": "wms2cMr6TDjg",
        "outputId": "08a5632a-ef43-474f-8671-0117d2a0ec0e"
      },
      "execution_count": 59,
      "outputs": [
        {
          "output_type": "stream",
          "name": "stdout",
          "text": [
            "Prediction: [1]\n"
          ]
        },
        {
          "output_type": "display_data",
          "data": {
            "text/plain": [
              "<Figure size 640x480 with 1 Axes>"
            ],
            "image/png": "[encoded data removed]"
          },
          "metadata": {}
        }
      ]
    },
    {
      "cell_type": "code",
      "source": [
        "import joblib as jb\n",
        "jb.dump(sample_model, 'Handwritten_Digit_Recognizer.pkl')"
      ],
      "metadata": {
        "colab": {
          "base_uri": "https://localhost:8080/"
        },
        "id": "YN1lBJzTCHr7",
        "outputId": "bf4d6927-38e5-4341-cae4-86541894ecb2"
      },
      "execution_count": 60,
      "outputs": [
        {
          "output_type": "execute_result",
          "data": {
            "text/plain": [
              "['Handwritten_Digit_Recognizer.pkl']"
            ]
          },
          "metadata": {},
          "execution_count": 60
        }
      ]
    },
    {
      "cell_type": "code",
      "source": [
        "loaded_model = jb.load('Handwritten_Digit_Recognizer.pkl')"
      ],
      "metadata": {
        "id": "qOgf9RdWGBP4"
      },
      "execution_count": 61,
      "outputs": []
    },
    {
      "cell_type": "code",
      "source": [
        "loaded_model.test_sample_image('handwritten1.jpg')"
      ],
      "metadata": {
        "colab": {
          "base_uri": "https://localhost:8080/",
          "height": 423
        },
        "id": "28PLagXFGV57",
        "outputId": "5a99e17e-48d6-4320-9108-9e6343deda4a"
      },
      "execution_count": 62,
      "outputs": [
        {
          "output_type": "stream",
          "name": "stdout",
          "text": [
            "Prediction: [1]\n"
          ]
        },
        {
          "output_type": "display_data",
          "data": {
            "text/plain": [
              "<Figure size 640x480 with 1 Axes>"
            ],
            "image/png": "[encoded data removed]"
          },
          "metadata": {}
        }
      ]
    },
    {
      "cell_type": "code",
      "source": [],
      "metadata": {
        "id": "zhnDhSObGcLm"
      },
      "execution_count": null,
      "outputs": []
    }
  ]
}